{
 "cells": [
  {
   "cell_type": "markdown",
   "id": "884431ee",
   "metadata": {},
   "source": [
    "# Question  No. 1\n",
    "#1.\tUse the constructor methods to create different data types in python (integer,float,string,list,tuple,dictionary,set etc.). Also use object literals to create those data types."
   ]
  },
  {
   "cell_type": "code",
   "execution_count": 36,
   "id": "28412058",
   "metadata": {},
   "outputs": [
    {
     "name": "stdout",
     "output_type": "stream",
     "text": [
      "integer 1 = 10\n",
      "integer 2 = 20\n",
      "Float 1 = 2.0\n",
      "Float 2 = 3.0\n",
      "List 1 = [1, 2, 3, 4]\n",
      "List 2 = [3, 4, 5, 6]\n",
      "Set 1 = {40, 10, 20, 30}\n",
      "Set 2 = {40, 50, 60, 30}\n"
     ]
    },
    {
     "data": {
      "text/plain": [
       "dict"
      ]
     },
     "execution_count": 36,
     "metadata": {},
     "output_type": "execute_result"
    }
   ],
   "source": [
    "\n",
    "a = int(10.0)  # Creating an integer by using Constructor Method\n",
    "b = 20  # Creating an integer by using Constructor Literal\n",
    "\n",
    "print(\"integer 1 =\",a)\n",
    "print(\"integer 2 =\",b)\n",
    "\n",
    "\n",
    "c = float(2)  # Creating a float by using Constructor Method\n",
    "d = 3.0  # Creating a float by using Literal\n",
    "\n",
    "print(\"Float 1 =\",c)\n",
    "print(\"Float 2 =\",d)\n",
    "\n",
    "e = list((1, 2, 3, 4))  # Creating a list by using Constructor Method\n",
    "f = [3, 4, 5, 6]  # Creating a list by using Literal\n",
    "\n",
    "print(\"List 1 =\",e)\n",
    "print(\"List 2 =\",f)\n",
    "\n",
    "g = set((10, 20, 30, 40))  # Creating a Set by using Constructor Method\n",
    "h = {30, 40, 50, 60}  # Creating a Set by using Literal\n",
    "\n",
    "print(\"Set 1 =\",g)\n",
    "print(\"Set 2 =\",h)\n",
    "\n",
    "dictt = {'list': [1, 2], 'string': 'This is a book'}\n",
    "type(dictt)"
   ]
  },
  {
   "cell_type": "markdown",
   "id": "306110fd",
   "metadata": {},
   "source": [
    "# Question  No. 2\n",
    "#(a) Create two operands and play around using different operators"
   ]
  },
  {
   "cell_type": "code",
   "execution_count": 33,
   "id": "79e86d90",
   "metadata": {},
   "outputs": [
    {
     "name": "stdout",
     "output_type": "stream",
     "text": [
      "Addition of two Integers = 30\n",
      "Concatination of two Strings = This is a book.\n"
     ]
    }
   ],
   "source": [
    "\n",
    "i = '''This is a '''\n",
    "j = '''book.'''\n",
    "\n",
    "add = a + b\n",
    "\n",
    "con = i + j\n",
    "\n",
    "print(\"Addition of two Integers =\", add)\n",
    "\n",
    "print(\"Concatination of two Strings =\", con)"
   ]
  },
  {
   "cell_type": "markdown",
   "id": "62ca6fc9",
   "metadata": {},
   "source": [
    "# Question  No. 3"
   ]
  },
  {
   "cell_type": "code",
   "execution_count": 44,
   "id": "cd37c2ff",
   "metadata": {},
   "outputs": [
    {
     "name": "stdout",
     "output_type": "stream",
     "text": [
      "15\n"
     ]
    },
    {
     "data": {
      "text/plain": [
       "'10'"
      ]
     },
     "execution_count": 44,
     "metadata": {},
     "output_type": "execute_result"
    }
   ],
   "source": [
    "dir(a)\n",
    "print(a.__add__(5))\n",
    "\n",
    "int.__str__(a)  #Similar to a  builtin Funtion, str3 = str(a)\n"
   ]
  },
  {
   "cell_type": "code",
   "execution_count": 45,
   "id": "dfe7613a",
   "metadata": {},
   "outputs": [
    {
     "data": {
      "text/plain": [
       "10"
      ]
     },
     "execution_count": 45,
     "metadata": {},
     "output_type": "execute_result"
    }
   ],
   "source": [
    "int.__abs__(a) #Similar to a  builtin Funtion, absolute = abs(a)"
   ]
  },
  {
   "cell_type": "code",
   "execution_count": 46,
   "id": "8a70e35c",
   "metadata": {},
   "outputs": [
    {
     "data": {
      "text/plain": [
       "10.0"
      ]
     },
     "execution_count": 46,
     "metadata": {},
     "output_type": "execute_result"
    }
   ],
   "source": [
    "int.__float__(a) "
   ]
  },
  {
   "cell_type": "code",
   "execution_count": 47,
   "id": "9a35881a",
   "metadata": {},
   "outputs": [
    {
     "data": {
      "text/plain": [
       "-10"
      ]
     },
     "execution_count": 47,
     "metadata": {},
     "output_type": "execute_result"
    }
   ],
   "source": [
    "int.__neg__(a)"
   ]
  },
  {
   "cell_type": "markdown",
   "id": "b0e4b6c6",
   "metadata": {},
   "source": [
    "# Question  No. 4\n",
    " \n",
    "#Different ways to format the string. "
   ]
  },
  {
   "cell_type": "code",
   "execution_count": 65,
   "id": "b95723c8",
   "metadata": {},
   "outputs": [
    {
     "name": "stdout",
     "output_type": "stream",
     "text": [
      "I love python\n",
      "I love python\n",
      "I love python version  3.1\n",
      "I love python version 3.10\n",
      "I love python version 3.10\n",
      "I love python version 3.1\n",
      "I love python version 3.10\n",
      "I love python version 3.10\n",
      "I love 3.10 version of python\n"
     ]
    }
   ],
   "source": [
    "print(\"I love\",\"python\")\n",
    "print(\"I love\" + \" python\")\n",
    "print(\"I love\" + \" python\" + \" version \", 3.10)\n",
    "print(\"I love\" + \" python\" + \" version %.2f\"%3.10)\n",
    "print(\"I love %s version %.2f\"%(\"python\",3.10))\n",
    "\n",
    "#Using format position argument\n",
    "print(\"I love {} version {}\".format(\"python\",3.10))\n",
    "print(\"I love {} version {}\".format(\"python\",\"3.10\"))\n",
    "print(\"I love {} version {:.2f}\".format(\"python\",3.10))\n",
    "print(\"I love {1} version of {0}\".format(\"python\",\"3.10\"))"
   ]
  },
  {
   "cell_type": "markdown",
   "id": "4d6fc4c0",
   "metadata": {},
   "source": [
    "# Question  No. 5\n",
    "Familiarize yourself with indexing in python.Iterables can be accessed using index values in python. Eg: list, tuple,dict, set "
   ]
  },
  {
   "cell_type": "code",
   "execution_count": 191,
   "id": "5d966ded",
   "metadata": {},
   "outputs": [
    {
     "name": "stdout",
     "output_type": "stream",
     "text": [
      "['Finland', 'Sweden', 'Denmark', 'Netherlands', 'Germany', 'Norway', 'Iceland']\n",
      "1\n",
      "['Sweden', 'Denmark', 'Netherlands', 'Germany', 'Norway']\n",
      "['Finland', 'Sweden', 'Denmark', 'Netherlands', 'Germany']\n",
      "Iceland\n",
      "['Germany', 'Norway', 'Iceland']\n",
      "['Sweden', 'Netherlands', 'Norway']\n",
      "['Finland', 'Iceland']\n",
      "['Netherlands', 'Germany', 'Norway']\n",
      "['Iceland', 'Norway', 'Germany', 'Netherlands', 'Denmark', 'Sweden', 'Finland']\n",
      "['Iceland', 'Germany', 'Denmark', 'Finland']\n",
      "['Sweden', 'Netherlands', 'Norway']\n",
      "[]\n",
      "['Germany', 'Netherlands', 'Denmark']\n"
     ]
    },
    {
     "data": {
      "text/plain": [
       "[(0, 'Finland'),\n",
       " (1, 'Sweden'),\n",
       " (2, 'Denmark'),\n",
       " (3, 'Netherlands'),\n",
       " (4, 'Germany'),\n",
       " (5, 'Norway'),\n",
       " (6, 'Iceland')]"
      ]
     },
     "execution_count": 191,
     "metadata": {},
     "output_type": "execute_result"
    }
   ],
   "source": [
    "# a. Create a list of items. countries= [“Finland”,“Sweden”,”Denmark”,”Netherlands”,”Germany”,”Norway”,”Iceland”]\n",
    "\n",
    "countries= [\"Finland\", \"Sweden\", \"Denmark\", \"Netherlands\", \"Germany\", \"Norway\", \"Iceland\"]\n",
    "\n",
    "print(countries)\n",
    "\n",
    "print(countries.index(\"Sweden\")) # b. Find the index of “Sweden”\n",
    "\n",
    "print(countries[1:-1])  # c. Get all the items except the first\n",
    "\n",
    "print(countries[:-2])  #d Get all the items except the last\n",
    "\n",
    "print(countries[-1]) #e. Find the last item using negative indexing\n",
    "\n",
    "print(countries[-3:])  #f. Find the last three item using negative indexing\n",
    "\n",
    "print(countries[1::2])  #g. Grab all the items with odd indices\n",
    "\n",
    "print(countries[::len(countries)-1]) #h. Find the first and last item for the list\n",
    "\n",
    "print(countries[-4:-1])  #i.Get [”Netherlands”,”Germany”,”Norway”] using negative indexing\n",
    "\n",
    "print(countries[::-1])  #j.Reverse the list\n",
    "\n",
    "print(countries[::-2])  #k.What is the output of countries[::-2]\n",
    "\n",
    "print(countries[1:100:2])  #l.What is the output of countries[1:100:2]\n",
    "\n",
    "print(countries[len(countries)-1:0:2])  #m.What is the output of countries[len(countries)-1:0:2]\n",
    "\n",
    "print([countries[-3], countries[-4], countries[-5]]) #n.Get the output ['Germany', 'Netherlands', 'Denmark']\n",
    "\n",
    "[pair for pair in enumerate(countries)]  #o.Use enumerate method to get index and values in the list\n"
   ]
  },
  {
   "cell_type": "markdown",
   "id": "e48127b8",
   "metadata": {},
   "source": [
    "# Question  No. 6\n",
    "Familiarize yourself with indexing in python.Iterables can be accessed using index values in python. Eg: list, tuple,dict, set "
   ]
  },
  {
   "cell_type": "code",
   "execution_count": 232,
   "id": "516b22bb",
   "metadata": {},
   "outputs": [
    {
     "name": "stdout",
     "output_type": "stream",
     "text": [
      "{'a': 1, 'b': 2, 'c': 3, 'd': 4}\n",
      "{'Duy': ['Python', 'Database', 'ML'], 'Laxmi': ['Python', 'Database', 'ML'], 'Antonio': ['Python', 'Database', 'ML']}\n"
     ]
    },
    {
     "ename": "AttributeError",
     "evalue": "'str' object has no attribute 'update'",
     "output_type": "error",
     "traceback": [
      "\u001b[1;31m---------------------------------------------------------------------------\u001b[0m",
      "\u001b[1;31mAttributeError\u001b[0m                            Traceback (most recent call last)",
      "\u001b[1;32m~\\AppData\\Local\\Temp\\ipykernel_10852\\2403533465.py\u001b[0m in \u001b[0;36m<module>\u001b[1;34m\u001b[0m\n\u001b[0;32m     27\u001b[0m \u001b[0mnewdict\u001b[0m \u001b[1;33m=\u001b[0m \u001b[1;33m{\u001b[0m\u001b[0mk\u001b[0m\u001b[1;33m:\u001b[0m \u001b[0mCourse\u001b[0m \u001b[1;32mfor\u001b[0m \u001b[0mk\u001b[0m\u001b[1;33m,\u001b[0m \u001b[0mv\u001b[0m \u001b[1;32min\u001b[0m \u001b[0mzip\u001b[0m\u001b[1;33m(\u001b[0m\u001b[0mStudents\u001b[0m\u001b[1;33m,\u001b[0m \u001b[0mCourse\u001b[0m\u001b[1;33m)\u001b[0m\u001b[1;33m}\u001b[0m\u001b[1;33m\u001b[0m\u001b[1;33m\u001b[0m\u001b[0m\n\u001b[0;32m     28\u001b[0m \u001b[0mprint\u001b[0m\u001b[1;33m(\u001b[0m\u001b[0mnewdict\u001b[0m\u001b[1;33m)\u001b[0m\u001b[1;33m\u001b[0m\u001b[1;33m\u001b[0m\u001b[0m\n\u001b[1;32m---> 29\u001b[1;33m \u001b[1;34m'Antonio'\u001b[0m\u001b[1;33m.\u001b[0m\u001b[0mupdate\u001b[0m\u001b[1;33m(\u001b[0m\u001b[1;33m)\u001b[0m\u001b[1;33m\u001b[0m\u001b[1;33m\u001b[0m\u001b[0m\n\u001b[0m\u001b[0;32m     30\u001b[0m \u001b[1;31m# d.Modify Antonio’s course to [\"JavaScript\",\"Database\",\"NodeJS\"]\u001b[0m\u001b[1;33m\u001b[0m\u001b[1;33m\u001b[0m\u001b[0m\n\u001b[0;32m     31\u001b[0m \u001b[0mnewdict\u001b[0m \u001b[1;33m=\u001b[0m \u001b[0mnewdict\u001b[0m\u001b[1;33m.\u001b[0m\u001b[0mupdate\u001b[0m\u001b[1;33m(\u001b[0m\u001b[1;33m)\u001b[0m\u001b[1;33m\u001b[0m\u001b[1;33m\u001b[0m\u001b[0m\n",
      "\u001b[1;31mAttributeError\u001b[0m: 'str' object has no attribute 'update'"
     ]
    }
   ],
   "source": [
    "# Exercise on dictionaries\n",
    "\n",
    "# a.Given the two lists of same length, create a dictionary using a list as keys and      \n",
    "#another list as values without using loop Eg: [\"a\",\"b\",\"c\",\"d\"],[1,2,3,4] lists should be made {'a': 1, 'b': 2, 'c': 3, 'd': 4}\n",
    "\n",
    "L1 = [\"a\",\"b\",\"c\",\"d\"]\n",
    "L2 = [1,2,3,4]\n",
    "new_dict = {k: v for k, v in zip(L1, L2)}\n",
    "print(new_dict)\n",
    "\n",
    "# b.Create two dictionaries, merge them into one.\n",
    "\n",
    "dict1 = {'a': 10, 'b': 8}\n",
    "dict2 = {'d': 6, 'c': 4}\n",
    "merged_dict = dict1.copy()\n",
    "merged_dict.update(dict2)\n",
    "merged_dict\n",
    "\n",
    "# c.Given the list of students, assign them the course.\n",
    "#Students=[“Duy”, “Laxmi”,”Antonio”,”Maria”]\n",
    "#Course[\"Python\",\"Database\",\"ML\"] \n",
    "#Should result to the new dictionary students_profile=\n",
    "#{'Duy': ['Python', 'Database', 'ML'], 'Laxmi': ['Python', 'Database', 'ML'],\n",
    "# 'Antonio': ['Python', 'Database', 'ML'],'Maria': ['Python', 'Database', 'ML']}\n",
    "Students = [\"Duy\", \"Laxmi\",\"Antonio\",\"Maria\"]\n",
    "Course = [\"Python\",\"Database\",\"ML\"]\n",
    "newdict = {k: Course for k, v in zip(Students, Course)}\n",
    "print(newdict)\n",
    "'Antonio'.update()\n",
    "# d.Modify Antonio’s course to [\"JavaScript\",\"Database\",\"NodeJS\"]\n",
    "#newdict = newdict.update()\n",
    "# e.Add “ReactJs” to Anonio’s course\n",
    "# f.Replace Antonio’s “ReactJs” to “Vuejs”\n",
    "\n",
    "# g.Remove an item from dictionary\n"
   ]
  },
  {
   "cell_type": "code",
   "execution_count": null,
   "id": "d710f5ff",
   "metadata": {},
   "outputs": [],
   "source": []
  },
  {
   "cell_type": "code",
   "execution_count": null,
   "id": "bf1a1b4e",
   "metadata": {},
   "outputs": [],
   "source": []
  }
 ],
 "metadata": {
  "kernelspec": {
   "display_name": "Python 3 (ipykernel)",
   "language": "python",
   "name": "python3"
  },
  "language_info": {
   "codemirror_mode": {
    "name": "ipython",
    "version": 3
   },
   "file_extension": ".py",
   "mimetype": "text/x-python",
   "name": "python",
   "nbconvert_exporter": "python",
   "pygments_lexer": "ipython3",
   "version": "3.9.13"
  }
 },
 "nbformat": 4,
 "nbformat_minor": 5
}
